{
 "cells": [
  {
   "cell_type": "code",
   "execution_count": 1,
   "id": "0a06ce22",
   "metadata": {},
   "outputs": [
    {
     "name": "stdout",
     "output_type": "stream",
     "text": [
      "     hours  age  internet  marks\n",
      "0     6.83   15         1  78.50\n",
      "1     6.56   16         0  76.74\n",
      "2      NaN   17         1  78.68\n",
      "3     5.67   18         0  71.82\n",
      "4     8.67   19         1  84.19\n",
      "..     ...  ...       ...    ...\n",
      "196   8.56   19         1  84.68\n",
      "197   8.94   20         1  86.75\n",
      "198   6.60   15         1  78.05\n",
      "199   8.35   16         1  83.50\n",
      "200   4.15   15         0  81.45\n",
      "\n",
      "[201 rows x 4 columns]\n"
     ]
    }
   ],
   "source": [
    "import pandas as pd \n",
    "path =\"C:\\\\Users\\\\mf879\\\\OneDrive\\\\Desktop\\\\Karunadu\\\\Data\\\\Data\\\\Exammarks.csv\"\n",
    "data=pd.read_csv(path)\n",
    "print(data)"
   ]
  },
  {
   "cell_type": "code",
   "execution_count": 2,
   "id": "c860ad11",
   "metadata": {},
   "outputs": [
    {
     "name": "stdout",
     "output_type": "stream",
     "text": [
      "<class 'pandas.core.frame.DataFrame'>\n",
      "RangeIndex: 201 entries, 0 to 200\n",
      "Data columns (total 4 columns):\n",
      " #   Column    Non-Null Count  Dtype  \n",
      "---  ------    --------------  -----  \n",
      " 0   hours     196 non-null    float64\n",
      " 1   age       201 non-null    int64  \n",
      " 2   internet  201 non-null    int64  \n",
      " 3   marks     201 non-null    float64\n",
      "dtypes: float64(2), int64(2)\n",
      "memory usage: 6.4 KB\n"
     ]
    }
   ],
   "source": [
    "data.info()"
   ]
  },
  {
   "cell_type": "code",
   "execution_count": 3,
   "id": "0d4a70cd",
   "metadata": {},
   "outputs": [
    {
     "name": "stdout",
     "output_type": "stream",
     "text": [
      "hours       5\n",
      "age         0\n",
      "internet    0\n",
      "marks       0\n",
      "dtype: int64\n"
     ]
    }
   ],
   "source": [
    "print(data.isnull().sum())# To find the number of columns missing "
   ]
  },
  {
   "cell_type": "code",
   "execution_count": 5,
   "id": "7fd00b13",
   "metadata": {},
   "outputs": [
    {
     "name": "stderr",
     "output_type": "stream",
     "text": [
      "C:\\Users\\mf879\\AppData\\Local\\Temp\\ipykernel_10364\\3666234506.py:1: FutureWarning: In a future version of pandas all arguments of DataFrame.drop except for the argument 'labels' will be keyword-only.\n",
      "  inputs = data.drop('marks','columns')\n",
      "C:\\Users\\mf879\\AppData\\Local\\Temp\\ipykernel_10364\\3666234506.py:2: FutureWarning: In a future version of pandas all arguments of DataFrame.drop except for the argument 'labels' will be keyword-only.\n",
      "  outputs=data.drop(['hours','age','internet'],'columns')\n"
     ]
    }
   ],
   "source": [
    "inputs = data.drop('marks','columns')\n",
    "outputs=data.drop(['hours','age','internet'],'columns')"
   ]
  },
  {
   "cell_type": "code",
   "execution_count": 6,
   "id": "6a38f326",
   "metadata": {},
   "outputs": [
    {
     "name": "stdout",
     "output_type": "stream",
     "text": [
      "     hours  age  internet\n",
      "0     6.83   15         1\n",
      "1     6.56   16         0\n",
      "2      NaN   17         1\n",
      "3     5.67   18         0\n",
      "4     8.67   19         1\n",
      "..     ...  ...       ...\n",
      "196   8.56   19         1\n",
      "197   8.94   20         1\n",
      "198   6.60   15         1\n",
      "199   8.35   16         1\n",
      "200   4.15   15         0\n",
      "\n",
      "[201 rows x 3 columns]\n"
     ]
    }
   ],
   "source": [
    "print(inputs)"
   ]
  },
  {
   "cell_type": "code",
   "execution_count": 7,
   "id": "3ad4b801",
   "metadata": {},
   "outputs": [
    {
     "name": "stdout",
     "output_type": "stream",
     "text": [
      "     marks\n",
      "0    78.50\n",
      "1    76.74\n",
      "2    78.68\n",
      "3    71.82\n",
      "4    84.19\n",
      "..     ...\n",
      "196  84.68\n",
      "197  86.75\n",
      "198  78.05\n",
      "199  83.50\n",
      "200  81.45\n",
      "\n",
      "[201 rows x 1 columns]\n"
     ]
    }
   ],
   "source": [
    "print(outputs)"
   ]
  },
  {
   "cell_type": "code",
   "execution_count": 10,
   "id": "1775b541",
   "metadata": {},
   "outputs": [
    {
     "name": "stdout",
     "output_type": "stream",
     "text": [
      "7.109999999999999\n"
     ]
    }
   ],
   "source": [
    "median_val=data.hours.median()\n",
    "print(median_val)"
   ]
  },
  {
   "cell_type": "code",
   "execution_count": 14,
   "id": "7b324ea5",
   "metadata": {},
   "outputs": [],
   "source": [
    "data.hours=data.hours.fillna(median_val)"
   ]
  },
  {
   "cell_type": "code",
   "execution_count": 15,
   "id": "c6ce59be",
   "metadata": {},
   "outputs": [
    {
     "data": {
      "text/plain": [
       "hours       0\n",
       "age         0\n",
       "internet    0\n",
       "marks       0\n",
       "dtype: int64"
      ]
     },
     "execution_count": 15,
     "metadata": {},
     "output_type": "execute_result"
    }
   ],
   "source": [
    "data.isnull().sum()"
   ]
  },
  {
   "cell_type": "code",
   "execution_count": 16,
   "id": "5243ba74",
   "metadata": {},
   "outputs": [],
   "source": [
    "import sklearn \n",
    "from sklearn import linear_model\n",
    "model=linear_model.LinearRegression()"
   ]
  },
  {
   "cell_type": "code",
   "execution_count": 18,
   "id": "f69582bd",
   "metadata": {},
   "outputs": [
    {
     "name": "stdout",
     "output_type": "stream",
     "text": [
      "     hours  age  internet  marks\n",
      "0     6.83   15         1  78.50\n",
      "1     6.56   16         0  76.74\n",
      "2     7.11   17         1  78.68\n",
      "3     5.67   18         0  71.82\n",
      "4     8.67   19         1  84.19\n",
      "..     ...  ...       ...    ...\n",
      "196   8.56   19         1  84.68\n",
      "197   8.94   20         1  86.75\n",
      "198   6.60   15         1  78.05\n",
      "199   8.35   16         1  83.50\n",
      "200   4.15   15         0  81.45\n",
      "\n",
      "[201 rows x 4 columns]\n"
     ]
    }
   ],
   "source": [
    "print(data)"
   ]
  },
  {
   "cell_type": "code",
   "execution_count": 19,
   "id": "8b195f8a",
   "metadata": {},
   "outputs": [
    {
     "data": {
      "text/plain": [
       "hours       0\n",
       "age         0\n",
       "internet    0\n",
       "marks       0\n",
       "dtype: int64"
      ]
     },
     "execution_count": 19,
     "metadata": {},
     "output_type": "execute_result"
    }
   ],
   "source": [
    "data.isnull().sum()"
   ]
  },
  {
   "cell_type": "code",
   "execution_count": 21,
   "id": "4343c387",
   "metadata": {},
   "outputs": [
    {
     "name": "stderr",
     "output_type": "stream",
     "text": [
      "C:\\Users\\mf879\\AppData\\Local\\Temp\\ipykernel_10364\\3666234506.py:1: FutureWarning: In a future version of pandas all arguments of DataFrame.drop except for the argument 'labels' will be keyword-only.\n",
      "  inputs = data.drop('marks','columns')\n",
      "C:\\Users\\mf879\\AppData\\Local\\Temp\\ipykernel_10364\\3666234506.py:2: FutureWarning: In a future version of pandas all arguments of DataFrame.drop except for the argument 'labels' will be keyword-only.\n",
      "  outputs=data.drop(['hours','age','internet'],'columns')\n"
     ]
    }
   ],
   "source": [
    "inputs = data.drop('marks','columns')\n",
    "outputs=data.drop(['hours','age','internet'],'columns')"
   ]
  },
  {
   "cell_type": "code",
   "execution_count": 22,
   "id": "a3c4aedc",
   "metadata": {},
   "outputs": [
    {
     "data": {
      "text/html": [
       "<style>#sk-container-id-1 {color: black;}#sk-container-id-1 pre{padding: 0;}#sk-container-id-1 div.sk-toggleable {background-color: white;}#sk-container-id-1 label.sk-toggleable__label {cursor: pointer;display: block;width: 100%;margin-bottom: 0;padding: 0.3em;box-sizing: border-box;text-align: center;}#sk-container-id-1 label.sk-toggleable__label-arrow:before {content: \"▸\";float: left;margin-right: 0.25em;color: #696969;}#sk-container-id-1 label.sk-toggleable__label-arrow:hover:before {color: black;}#sk-container-id-1 div.sk-estimator:hover label.sk-toggleable__label-arrow:before {color: black;}#sk-container-id-1 div.sk-toggleable__content {max-height: 0;max-width: 0;overflow: hidden;text-align: left;background-color: #f0f8ff;}#sk-container-id-1 div.sk-toggleable__content pre {margin: 0.2em;color: black;border-radius: 0.25em;background-color: #f0f8ff;}#sk-container-id-1 input.sk-toggleable__control:checked~div.sk-toggleable__content {max-height: 200px;max-width: 100%;overflow: auto;}#sk-container-id-1 input.sk-toggleable__control:checked~label.sk-toggleable__label-arrow:before {content: \"▾\";}#sk-container-id-1 div.sk-estimator input.sk-toggleable__control:checked~label.sk-toggleable__label {background-color: #d4ebff;}#sk-container-id-1 div.sk-label input.sk-toggleable__control:checked~label.sk-toggleable__label {background-color: #d4ebff;}#sk-container-id-1 input.sk-hidden--visually {border: 0;clip: rect(1px 1px 1px 1px);clip: rect(1px, 1px, 1px, 1px);height: 1px;margin: -1px;overflow: hidden;padding: 0;position: absolute;width: 1px;}#sk-container-id-1 div.sk-estimator {font-family: monospace;background-color: #f0f8ff;border: 1px dotted black;border-radius: 0.25em;box-sizing: border-box;margin-bottom: 0.5em;}#sk-container-id-1 div.sk-estimator:hover {background-color: #d4ebff;}#sk-container-id-1 div.sk-parallel-item::after {content: \"\";width: 100%;border-bottom: 1px solid gray;flex-grow: 1;}#sk-container-id-1 div.sk-label:hover label.sk-toggleable__label {background-color: #d4ebff;}#sk-container-id-1 div.sk-serial::before {content: \"\";position: absolute;border-left: 1px solid gray;box-sizing: border-box;top: 0;bottom: 0;left: 50%;z-index: 0;}#sk-container-id-1 div.sk-serial {display: flex;flex-direction: column;align-items: center;background-color: white;padding-right: 0.2em;padding-left: 0.2em;position: relative;}#sk-container-id-1 div.sk-item {position: relative;z-index: 1;}#sk-container-id-1 div.sk-parallel {display: flex;align-items: stretch;justify-content: center;background-color: white;position: relative;}#sk-container-id-1 div.sk-item::before, #sk-container-id-1 div.sk-parallel-item::before {content: \"\";position: absolute;border-left: 1px solid gray;box-sizing: border-box;top: 0;bottom: 0;left: 50%;z-index: -1;}#sk-container-id-1 div.sk-parallel-item {display: flex;flex-direction: column;z-index: 1;position: relative;background-color: white;}#sk-container-id-1 div.sk-parallel-item:first-child::after {align-self: flex-end;width: 50%;}#sk-container-id-1 div.sk-parallel-item:last-child::after {align-self: flex-start;width: 50%;}#sk-container-id-1 div.sk-parallel-item:only-child::after {width: 0;}#sk-container-id-1 div.sk-dashed-wrapped {border: 1px dashed gray;margin: 0 0.4em 0.5em 0.4em;box-sizing: border-box;padding-bottom: 0.4em;background-color: white;}#sk-container-id-1 div.sk-label label {font-family: monospace;font-weight: bold;display: inline-block;line-height: 1.2em;}#sk-container-id-1 div.sk-label-container {text-align: center;}#sk-container-id-1 div.sk-container {/* jupyter's `normalize.less` sets `[hidden] { display: none; }` but bootstrap.min.css set `[hidden] { display: none !important; }` so we also need the `!important` here to be able to override the default hidden behavior on the sphinx rendered scikit-learn.org. See: https://github.com/scikit-learn/scikit-learn/issues/21755 */display: inline-block !important;position: relative;}#sk-container-id-1 div.sk-text-repr-fallback {display: none;}</style><div id=\"sk-container-id-1\" class=\"sk-top-container\"><div class=\"sk-text-repr-fallback\"><pre>LinearRegression()</pre><b>In a Jupyter environment, please rerun this cell to show the HTML representation or trust the notebook. <br />On GitHub, the HTML representation is unable to render, please try loading this page with nbviewer.org.</b></div><div class=\"sk-container\" hidden><div class=\"sk-item\"><div class=\"sk-estimator sk-toggleable\"><input class=\"sk-toggleable__control sk-hidden--visually\" id=\"sk-estimator-id-1\" type=\"checkbox\" checked><label for=\"sk-estimator-id-1\" class=\"sk-toggleable__label sk-toggleable__label-arrow\">LinearRegression</label><div class=\"sk-toggleable__content\"><pre>LinearRegression()</pre></div></div></div></div></div>"
      ],
      "text/plain": [
       "LinearRegression()"
      ]
     },
     "execution_count": 22,
     "metadata": {},
     "output_type": "execute_result"
    }
   ],
   "source": [
    "model.fit(inputs,outputs)"
   ]
  },
  {
   "cell_type": "code",
   "execution_count": 24,
   "id": "7443f098",
   "metadata": {},
   "outputs": [
    {
     "name": "stdout",
     "output_type": "stream",
     "text": [
      "[[77.40951905]]\n"
     ]
    },
    {
     "name": "stderr",
     "output_type": "stream",
     "text": [
      "C:\\Users\\mf879\\AppData\\Local\\Programs\\Python\\Python310\\lib\\site-packages\\sklearn\\base.py:464: UserWarning: X does not have valid feature names, but LinearRegression was fitted with feature names\n",
      "  warnings.warn(\n"
     ]
    }
   ],
   "source": [
    "res=model.predict([[6.83,14,1]])\n",
    "print(res)"
   ]
  },
  {
   "cell_type": "code",
   "execution_count": 25,
   "id": "ed95bbe0",
   "metadata": {},
   "outputs": [
    {
     "name": "stdout",
     "output_type": "stream",
     "text": [
      "Enter the hours6.38\n",
      "Enter the hours18\n",
      "Enter the internet enither 0 or 11\n",
      "[[75.6433024]]\n"
     ]
    },
    {
     "name": "stderr",
     "output_type": "stream",
     "text": [
      "C:\\Users\\mf879\\AppData\\Local\\Programs\\Python\\Python310\\lib\\site-packages\\sklearn\\base.py:464: UserWarning: X does not have valid feature names, but LinearRegression was fitted with feature names\n",
      "  warnings.warn(\n"
     ]
    }
   ],
   "source": [
    "hours=float(input(\"Enter the hours\"))\n",
    "age=int(input(\"Enter the hours\"))\n",
    "internet=int(input(\"Enter the internet enither 0 or 1\"))\n",
    "res=model.predict([[hours,age,internet]])\n",
    "print(res)"
   ]
  },
  {
   "cell_type": "code",
   "execution_count": 27,
   "id": "8e19aa2c",
   "metadata": {},
   "outputs": [
    {
     "name": "stdout",
     "output_type": "stream",
     "text": [
      "91.41056483206894 With accuracy \n"
     ]
    }
   ],
   "source": [
    "acc=model.score(inputs,outputs)\n",
    "print(acc*100,\"With accuracy \")"
   ]
  },
  {
   "cell_type": "code",
   "execution_count": 29,
   "id": "13402c81",
   "metadata": {},
   "outputs": [
    {
     "name": "stdout",
     "output_type": "stream",
     "text": [
      "[[ 3.76001905 -0.01855202 -0.05506707]]\n"
     ]
    }
   ],
   "source": [
    "coef=model.coef_\n",
    "print(coef)"
   ]
  },
  {
   "cell_type": "code",
   "execution_count": 31,
   "id": "e7e8a52b",
   "metadata": {},
   "outputs": [
    {
     "name": "stdout",
     "output_type": "stream",
     "text": [
      "[52.04338426]\n"
     ]
    }
   ],
   "source": [
    "intercept=model.intercept_\n",
    "print(intercept)"
   ]
  },
  {
   "cell_type": "code",
   "execution_count": 33,
   "id": "b5146d7d",
   "metadata": {},
   "outputs": [
    {
     "name": "stdout",
     "output_type": "stream",
     "text": [
      "75.643302369\n"
     ]
    }
   ],
   "source": [
    "price=3.76001905*hours+(-0.01855202*age)+(-0.05506707*internet)+52.04338426\n",
    "print(price)"
   ]
  },
  {
   "cell_type": "code",
   "execution_count": null,
   "id": "6699dd18",
   "metadata": {},
   "outputs": [],
   "source": [
    "s=input()\n",
    "f=[]\n",
    "l=[]\n",
    "s=list(s)\n",
    "for i in range(len(s)):\n",
    "    if i%2==0:\n",
    "        f.append(s[i])\n",
    "    else:\n",
    "        l.append(s[i])\n",
    "l=\"\".join(l)\n",
    "f=\"\".join(f)\n",
    "print(f,\",\",l)"
   ]
  },
  {
   "cell_type": "code",
   "execution_count": null,
   "id": "da365f4c",
   "metadata": {},
   "outputs": [],
   "source": []
  }
 ],
 "metadata": {
  "kernelspec": {
   "display_name": "Python 3 (ipykernel)",
   "language": "python",
   "name": "python3"
  },
  "language_info": {
   "codemirror_mode": {
    "name": "ipython",
    "version": 3
   },
   "file_extension": ".py",
   "mimetype": "text/x-python",
   "name": "python",
   "nbconvert_exporter": "python",
   "pygments_lexer": "ipython3",
   "version": "3.10.1"
  }
 },
 "nbformat": 4,
 "nbformat_minor": 5
}
